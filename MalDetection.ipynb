{
 "cells": [
  {
   "cell_type": "code",
   "execution_count": 91,
   "metadata": {
    "id": "s9szsl6vlnb7"
   },
   "outputs": [],
   "source": [
    "# imports:\n",
    "import numpy as np\n",
    "import pickle\n",
    "import random\n",
    "from sklearn import metrics\n",
    "import pandas as pd\n",
    "from sklearn.model_selection import train_test_split\n",
    "from sklearn import svm, tree\n",
    "from sklearn.model_selection import GridSearchCV\n",
    "from sklearn.linear_model import LogisticRegression\n",
    "from sklearn.ensemble import RandomForestClassifier\n",
    "from skimage import feature\n",
    "from sklearn.model_selection import KFold\n",
    "from sklearn.metrics import confusion_matrix\n",
    "from sklearn.neighbors import KNeighborsClassifier\n",
    "from scipy.stats import mode\n",
    "import matplotlib.pyplot as plt # for data visualization purposes"
   ]
  },
  {
   "cell_type": "code",
   "execution_count": 78,
   "metadata": {
    "id": "aaYy9XAOzumx"
   },
   "outputs": [],
   "source": [
    "# functions:\n",
    "\n",
    "dir = 'G:/University/Ph.D/AI for Sybersecurity/Project/Cleaned Datasets/'\n",
    "\n",
    "def save_obj(obj, name):\n",
    "    with open(dir + name + '.pkl', 'wb') as f:\n",
    "        pickle.dump(obj, f, pickle.HIGHEST_PROTOCOL)\n",
    "\n",
    "\n",
    "def load_obj(name):\n",
    "    with open(dir + name + '.pkl', 'rb') as f:\n",
    "        return pickle.load(f)\n"
   ]
  },
  {
   "cell_type": "code",
   "execution_count": 3,
   "metadata": {
    "colab": {
     "base_uri": "https://localhost:8080/"
    },
    "id": "rdI_dN7tkp7P",
    "outputId": "394f50dd-3e5c-4539-e6ae-ad3977df2fc4"
   },
   "outputs": [
    {
     "name": "stdout",
     "output_type": "stream",
     "text": [
      "shape of the train set: (1796, 224, 224)\n",
      "shape of the train labels: (1796,)\n",
      "shape of the test set: (599, 224, 224)\n",
      "shape of the test labels: (599,)\n"
     ]
    }
   ],
   "source": [
    "# Load the cleaned dataset form the Pickle files:\n",
    "\n",
    "dataset = load_obj('trainX')\n",
    "labels = load_obj('trainY')\n",
    "test_dataset = load_obj('testX')\n",
    "test_labels = load_obj('testY')\n",
    "\n",
    "print('shape of the train set: ' + str(dataset.shape))\n",
    "print('shape of the train labels: ' + str(labels.shape))\n",
    "print('shape of the test set: ' + str(test_dataset.shape))\n",
    "print('shape of the test labels: ' + str(test_labels.shape))"
   ]
  },
  {
   "cell_type": "code",
   "execution_count": 22,
   "metadata": {},
   "outputs": [
    {
     "name": "stdout",
     "output_type": "stream",
     "text": [
      "shape of the resulted feature vectors: (1796, 102)\n"
     ]
    }
   ],
   "source": [
    "# extract local binary pattern (LBP) features from the dataset images (train set)\n",
    "\n",
    "lbp_features = []\n",
    "num_points = 100\n",
    "radius = 8\n",
    "eps=1e-7\n",
    "for img in dataset:\n",
    "    lbp = feature.local_binary_pattern(img, num_points, radius, method=\"uniform\")\n",
    "    (hist, _) = np.histogram(lbp.ravel(), bins=np.arange(0, num_points + 3), range=(0, num_points + 2))\n",
    "    # normalize the histogram\n",
    "    hist = hist.astype(\"float\")\n",
    "    hist /= (hist.sum() + eps)\n",
    "    lbp_features.append(hist)\n",
    "    \n",
    "lbp_features = np.array(lbp_features)\n",
    "print('shape of the resulted feature vectors: ' + str(lbp_features.shape))\n",
    "    \n",
    "# save the result into a pickle file:\n",
    "save_obj(lbp_features, 'train_lbp_featurs')"
   ]
  },
  {
   "cell_type": "code",
   "execution_count": 23,
   "metadata": {},
   "outputs": [
    {
     "name": "stdout",
     "output_type": "stream",
     "text": [
      "the accuracy score for this fold is: 0.08055555555555556\n",
      "the accuracy score for this fold is: 0.09749303621169916\n",
      "the accuracy score for this fold is: 0.08356545961002786\n",
      "the accuracy score for this fold is: 0.08356545961002786\n",
      "the accuracy score for this fold is: 0.10027855153203342\n",
      "The average accuracy score is  0.08909161250386878\n"
     ]
    }
   ],
   "source": [
    "# 5-fold cross-validation for a support vector machine (SVM) model:\n",
    "\n",
    "kf = KFold(n_splits=5, shuffle=True, random_state=12)\n",
    "accuracy_sum = 0\n",
    "for train_index, test_index in kf.split(lbp_features):\n",
    "    # split tha data based on the current fold:\n",
    "    trainX = lbp_features[train_index]\n",
    "    trainY = labels[train_index]\n",
    "    testX = lbp_features[test_index]\n",
    "    testY = labels[test_index]\n",
    "    \n",
    "    # Train the model:\n",
    "    model = svm.SVC(kernel='rbf', probability=True)\n",
    "    model.fit(trainX, trainY)\n",
    "    \n",
    "    predY = model.predict(testX) # use the trained model for prediction\n",
    "    accuracy = metrics.accuracy_score(testY, predY) # calculate tha accuracy metric for the predictions\n",
    "    accuracy_sum += accuracy\n",
    "    print(\"the accuracy score for this fold is: \" + str(accuracy))\n",
    "    \n",
    "print(\"The average accuracy score is \", accuracy_sum / 5)"
   ]
  },
  {
   "cell_type": "code",
   "execution_count": 59,
   "metadata": {
    "colab": {
     "base_uri": "https://localhost:8080/"
    },
    "id": "nn-tz1pY2KEz",
    "outputId": "83c0fe4d-8190-4ae6-a0f9-7e0b94aa15cd"
   },
   "outputs": [
    {
     "name": "stdout",
     "output_type": "stream",
     "text": [
      "the accuracy score for this fold is: 0.041666666666666664\n",
      "the accuracy score for this fold is: 0.1\n",
      "the accuracy score for this fold is: 0.06666666666666667\n",
      "the accuracy score for this fold is: 0.041666666666666664\n",
      "the accuracy score for this fold is: 0.058823529411764705\n",
      "The average accuracy score is  0.06176470588235293\n"
     ]
    }
   ],
   "source": [
    "# 5-fold cross-validation for the KNN model:\n",
    "\n",
    "kf = KFold(n_splits=5, shuffle=True, random_state=24)\n",
    "accuracy_sum = 0\n",
    "for train_index, test_index in kf.split(lbp_features):\n",
    "    # split tha data based on the current fold:\n",
    "    trainX = lbp_features[train_index]\n",
    "    trainY = labels[train_index]\n",
    "    testX = lbp_features[test_index]\n",
    "    testY = labels[test_index]\n",
    "    \n",
    "    # Train the model:\n",
    "    model = KNeighborsClassifier()\n",
    "    model.fit(trainX, trainY)\n",
    "    \n",
    "    predY = model.predict(testX) # use the trained model for prediction\n",
    "    accuracy = metrics.accuracy_score(testY, predY) # calculate tha accuracy metric for the predictions\n",
    "    accuracy_sum += accuracy\n",
    "    print(\"the accuracy score for this fold is: \" + str(accuracy))\n",
    "    \n",
    "print(\"The average accuracy score is \", accuracy_sum / 5)"
   ]
  },
  {
   "cell_type": "code",
   "execution_count": 26,
   "metadata": {
    "colab": {
     "base_uri": "https://localhost:8080/"
    },
    "id": "ydlxFeARzcMO",
    "outputId": "acf5a9a4-8918-454d-9672-37f94fcde65a"
   },
   "outputs": [
    {
     "name": "stdout",
     "output_type": "stream",
     "text": [
      "the accuracy score for this fold is: 0.09166666666666666\n",
      "the accuracy score for this fold is: 0.09192200557103064\n",
      "the accuracy score for this fold is: 0.07799442896935933\n",
      "the accuracy score for this fold is: 0.06963788300835655\n",
      "the accuracy score for this fold is: 0.08635097493036212\n",
      "The average accuracy score is  0.08351439182915506\n"
     ]
    }
   ],
   "source": [
    "# 5-fold cross-validation for the Random Forest model:\n",
    "\n",
    "kf = KFold(n_splits=5, shuffle=True, random_state=12)\n",
    "accuracy_sum = 0\n",
    "for train_index, test_index in kf.split(lbp_features):\n",
    "    # split tha data based on the current fold:\n",
    "    trainX = lbp_features[train_index]\n",
    "    trainY = labels[train_index]\n",
    "    testX = lbp_features[test_index]\n",
    "    testY = labels[test_index]\n",
    "    \n",
    "    # Train the model:\n",
    "    model = RandomForestClassifier(n_estimators=100)\n",
    "    model.fit(trainX, trainY)\n",
    "    \n",
    "    predY = model.predict(testX) # use the trained model for prediction\n",
    "    accuracy = metrics.accuracy_score(testY, predY) # calculate tha accuracy metric for the predictions\n",
    "    accuracy_sum += accuracy\n",
    "    print(\"the accuracy score for this fold is: \" + str(accuracy))\n",
    "    \n",
    "print(\"The average accuracy score is \", accuracy_sum / 5)"
   ]
  },
  {
   "cell_type": "code",
   "execution_count": 55,
   "metadata": {},
   "outputs": [
    {
     "name": "stdout",
     "output_type": "stream",
     "text": [
      "the accuracy score for this fold is: 0.05\n",
      "the accuracy score for this fold is: 0.06666666666666667\n",
      "the accuracy score for this fold is: 0.058333333333333334\n",
      "the accuracy score for this fold is: 0.09166666666666666\n",
      "the accuracy score for this fold is: 0.058823529411764705\n",
      "The average accuracy score is  0.06509803921568627\n"
     ]
    }
   ],
   "source": [
    "# 5-fold cross-validation for the Decision Tree model:\n",
    "\n",
    "kf = KFold(n_splits=5, shuffle=True, random_state=12)\n",
    "accuracy_sum = 0\n",
    "for train_index, test_index in kf.split(lbp_features):\n",
    "    # split tha data based on the current fold:\n",
    "    trainX = lbp_features[train_index]\n",
    "    trainY = labels[train_index]\n",
    "    testX = lbp_features[test_index]\n",
    "    testY = labels[test_index]\n",
    "    \n",
    "    # Train the model:\n",
    "    model = tree.DecisionTreeClassifier()\n",
    "    model.fit(trainX, trainY)\n",
    "    \n",
    "    predY = model.predict(testX) # use the trained model for prediction\n",
    "    accuracy = metrics.accuracy_score(testY, predY) # calculate tha accuracy metric for the predictions\n",
    "    accuracy_sum += accuracy\n",
    "    print(\"the accuracy score for this fold is: \" + str(accuracy))\n",
    "    \n",
    "print(\"The average accuracy score is \", accuracy_sum / 5)"
   ]
  },
  {
   "cell_type": "code",
   "execution_count": 108,
   "metadata": {},
   "outputs": [
    {
     "name": "stdout",
     "output_type": "stream",
     "text": [
      "the accuracy score for this fold is: 0.09166666666666666\n",
      "the accuracy score for this fold is: 0.03333333333333333\n",
      "the accuracy score for this fold is: 0.05\n",
      "the accuracy score for this fold is: 0.11666666666666667\n",
      "the accuracy score for this fold is: 0.08403361344537816\n",
      "The average accuracy score is  0.07514005602240896\n"
     ]
    }
   ],
   "source": [
    "# 5-fold cross-validation for the Logistic Regression model:\n",
    "\n",
    "kf = KFold(n_splits=5, shuffle=True, random_state=12)\n",
    "accuracy_sum = 0\n",
    "for train_index, test_index in kf.split(lbp_features):\n",
    "    # split tha data based on the current fold:\n",
    "    trainX = lbp_features[train_index]\n",
    "    trainY = labels[train_index]\n",
    "    testX = lbp_features[test_index]\n",
    "    testY = labels[test_index]\n",
    "    \n",
    "    # Train the model:\n",
    "    model = LogisticRegression()\n",
    "    model.fit(trainX, trainY)\n",
    "    \n",
    "    predY = model.predict(testX) # use the trained model for prediction\n",
    "    accuracy = metrics.accuracy_score(testY, predY) # calculate tha accuracy metric for the predictions\n",
    "    accuracy_sum += accuracy\n",
    "    print(\"the accuracy score for this fold is: \" + str(accuracy))\n",
    "    \n",
    "print(\"The average accuracy score is \", accuracy_sum / 5)"
   ]
  },
  {
   "cell_type": "code",
   "execution_count": 31,
   "metadata": {},
   "outputs": [
    {
     "name": "stderr",
     "output_type": "stream",
     "text": [
      "C:\\Users\\Hamed\\Anaconda3\\lib\\site-packages\\sklearn\\model_selection\\_split.py:680: UserWarning: The least populated class in y has only 1 members, which is less than n_splits=5.\n",
      "  UserWarning,\n"
     ]
    },
    {
     "name": "stdout",
     "output_type": "stream",
     "text": [
      "Best Score :  0.10579077684927267\n",
      "Best Parameters :  {'C': 0.1, 'gamma': 0.0001, 'kernel': 'rbf'}\n"
     ]
    }
   ],
   "source": [
    "# parameter tuning for SVM\n",
    "\n",
    "trainX = load_obj('train_lbp_featurs')\n",
    "trainY = load_obj('trainY')\n",
    "\n",
    "param_grid={'C':[0.1,1,10,100],'gamma':[0.0001,0.001,0.1,1],'kernel':['rbf','poly']}\n",
    "svc=svm.SVC(probability=True)\n",
    "model=GridSearchCV(svc,param_grid)\n",
    "model.fit(trainX, trainY)\n",
    "print('Best Score : ', model.best_score_)\n",
    "print('Best Parameters : ', model.best_params_)"
   ]
  },
  {
   "cell_type": "code",
   "execution_count": 27,
   "metadata": {},
   "outputs": [
    {
     "name": "stdout",
     "output_type": "stream",
     "text": [
      "shape of the resulted feature vectors: (599, 102)\n"
     ]
    }
   ],
   "source": [
    "# extract local binary pattern (LBP) features from the dataset images (test set)\n",
    "\n",
    "lbp_features = []\n",
    "num_points = 100\n",
    "radius = 8\n",
    "eps=1e-7\n",
    "for img in test_dataset:\n",
    "    lbp = feature.local_binary_pattern(img, num_points, radius, method=\"uniform\")\n",
    "    (hist, _) = np.histogram(lbp.ravel(), bins=np.arange(0, num_points + 3), range=(0, num_points + 2))\n",
    "    # normalize the histogram\n",
    "    hist = hist.astype(\"float\")\n",
    "    hist /= (hist.sum() + eps)\n",
    "    lbp_features.append(hist)\n",
    "    \n",
    "lbp_features = np.array(lbp_features)\n",
    "print('shape of the resulted feature vectors: ' + str(lbp_features.shape))\n",
    "    \n",
    "# save the result into a pickle file:\n",
    "save_obj(lbp_features, 'test_lbp_featurs')"
   ]
  },
  {
   "cell_type": "code",
   "execution_count": 63,
   "metadata": {},
   "outputs": [],
   "source": [
    "# load all the extracted features and the labels from the final dataset:\n",
    "\n",
    "trainX = load_obj('final_train_lbp_featurs') \n",
    "testX = load_obj('final_test_lbp_featurs')\n",
    "trainY = load_obj('final_train_labels')\n",
    "testY = load_obj('final_test_labels')"
   ]
  },
  {
   "cell_type": "code",
   "execution_count": 66,
   "metadata": {},
   "outputs": [
    {
     "name": "stdout",
     "output_type": "stream",
     "text": [
      "0.0881542699724518\n"
     ]
    }
   ],
   "source": [
    "# Train on the whole train set using Random Forest, then test on the test set and save the predictions: \n",
    "\n",
    "model = RandomForestClassifier(n_estimators=100, random_state = 12)\n",
    "model.fit(trainX, trainY)\n",
    "predicted_RF = model.predict(testX)\n",
    "accuracy = metrics.accuracy_score(testY, predicted_RF)\n",
    "print(accuracy)\n",
    "save_obj(predicted_RF, 'predicted_RF')"
   ]
  },
  {
   "cell_type": "code",
   "execution_count": 67,
   "metadata": {},
   "outputs": [
    {
     "name": "stdout",
     "output_type": "stream",
     "text": [
      "0.09641873278236915\n"
     ]
    }
   ],
   "source": [
    "# Train on the whole train set using SVM, then test on the test set and save the predictions: \n",
    "\n",
    "model = svm.SVC(kernel='rbf', C=0.1, gamma= 0.0001)\n",
    "model.fit(trainX, trainY)\n",
    "predicted_SVM = model.predict(testX)\n",
    "accuracy = metrics.accuracy_score(testY, predicted_SVM)\n",
    "print(accuracy)\n",
    "save_obj(predicted_SVM, 'predicted_SVM')"
   ]
  },
  {
   "cell_type": "code",
   "execution_count": 83,
   "metadata": {},
   "outputs": [
    {
     "name": "stdout",
     "output_type": "stream",
     "text": [
      "0.08402203856749312\n"
     ]
    }
   ],
   "source": [
    "# Train on the whole train set using Logistic Regression, then test on the test set and save the predictions: \n",
    "\n",
    "model = LogisticRegression()\n",
    "model.fit(trainX, trainY)\n",
    "predicted_LR = model.predict(testX)\n",
    "accuracy = metrics.accuracy_score(testY, predicted_LR)\n",
    "print(accuracy)\n",
    "save_obj(predicted_LR, 'predicted_LR')"
   ]
  },
  {
   "cell_type": "code",
   "execution_count": 105,
   "metadata": {},
   "outputs": [
    {
     "name": "stdout",
     "output_type": "stream",
     "text": [
      "0.09641873278236915\n"
     ]
    }
   ],
   "source": [
    "# ensemble the results of all the selected models:\n",
    "\n",
    "predicted_densenet = np.genfromtxt(dir + 'densenet_test_predictions_ensemble.csv', delimiter=',')\n",
    "predicted_resnet = np.genfromtxt(dir + 'resnet152_test_predictions_ensemble.csv', delimiter=',')\n",
    "predicted_vgg = np.genfromtxt(dir + 'vgg_test_predictions_ensemble.csv', delimiter=',')\n",
    "\n",
    "combined = np.array([predicted_densenet, predicted_resnet, predicted_vgg, predicted_LR, predicted_SVM, predicted_RF])\n",
    "majority_vote = mode(combined)[0][0]\n",
    "accuracy = metrics.accuracy_score(testY, majority_vote)\n",
    "print(accuracy)"
   ]
  }
 ],
 "metadata": {
  "accelerator": "GPU",
  "colab": {
   "provenance": []
  },
  "gpuClass": "standard",
  "kernelspec": {
   "display_name": "Python 3",
   "language": "python",
   "name": "python3"
  },
  "language_info": {
   "codemirror_mode": {
    "name": "ipython",
    "version": 3
   },
   "file_extension": ".py",
   "mimetype": "text/x-python",
   "name": "python",
   "nbconvert_exporter": "python",
   "pygments_lexer": "ipython3",
   "version": "3.7.4"
  }
 },
 "nbformat": 4,
 "nbformat_minor": 1
}
